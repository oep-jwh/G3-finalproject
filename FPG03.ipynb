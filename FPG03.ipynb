{
  "nbformat": 4,
  "nbformat_minor": 0,
  "metadata": {
    "colab": {
      "private_outputs": true,
      "provenance": [],
      "include_colab_link": true
    },
    "kernelspec": {
      "name": "python3",
      "display_name": "Python 3"
    },
    "language_info": {
      "name": "python"
    }
  },
  "cells": [
    {
      "cell_type": "markdown",
      "metadata": {
        "id": "view-in-github",
        "colab_type": "text"
      },
      "source": [
        "<a href=\"https://colab.research.google.com/github/oep-jwh/G3-finalproject/blob/main/FPG03.ipynb\" target=\"_parent\"><img src=\"https://colab.research.google.com/assets/colab-badge.svg\" alt=\"Open In Colab\"/></a>"
      ]
    },
    {
      "cell_type": "markdown",
      "source": [
        "# 🌱**Group 3 Final Project (6/18)**\n",
        "\n",
        "+ Reading material: 💾 [text link](https://raw.githubusercontent.com/MK316/Spring2024/main/DLTESOL/project/story03.txt)\n",
        "\n",
        "## Learning objectives:\n",
        "+ objective 1: Students will be able to engage with interactive digital dontent.\n",
        "+ objective 1: Students will be able to support to collaborate and communicate effectively.\n",
        "+ objective 1: Students will be able to strengthen comprehension skills.\n",
        "+ objective 1: Students will be able to develop digital proficiency.\n",
        "+ objective 1: Students will be able to experience a sustainable, paper-free learning environment."
      ],
      "metadata": {
        "id": "3EGZDlOvWSAf"
      }
    },
    {
      "cell_type": "markdown",
      "source": [
        "# **[Pre-reading activities)]**\n"
      ],
      "metadata": {
        "id": "XOroK14VPufK"
      }
    },
    {
      "cell_type": "markdown",
      "source": [
        "## **1. Flashcards**\n",
        "The app provides digital flashcards, interactive matching games, and quizzes that students can complete on their tablets."
      ],
      "metadata": {
        "id": "iQ1PgRikWg5Q"
      }
    },
    {
      "cell_type": "code",
      "source": [
        "!pip install gradio gtts ipywidgets\n"
      ],
      "metadata": {
        "id": "1_UwLfOxRKWv"
      },
      "execution_count": null,
      "outputs": []
    },
    {
      "cell_type": "code",
      "source": [
        "import gradio as gr\n",
        "from gtts import gTTS\n",
        "from PIL import Image\n",
        "import requests\n",
        "from io import BytesIO\n",
        "\n",
        "# Manually add definitions\n",
        "word_definitions = {\n",
        "    \"quaint\": \"Having an old-fashioned or unusual quality or appearance that is usually attractive or appealing.\",\n",
        "    \"explore\": \"To travel over or through (a place) in order to learn more about it or to find something.\",\n",
        "    \"cheerful\": \"Feeling or showing happiness.\",\n",
        "    \"peddler\": \"Someone who sells things in small amounts often by traveling to different places.\",\n",
        "    \"curious\": \"Having a desire to learn or know more about something or someone.\",\n",
        "    \"enthusiasm\": \"Strong excitement about something; a strong feeling of active interest in something that you like or enjoy.\",\n",
        "    \"skeptical\": \"Having or expressing doubt about something.\",\n",
        "    \"whisper\": \"To speak very softly or quietly.\"\n",
        "}\n",
        "\n",
        "# Corresponding image URLs (example URLs, replace with actual GitHub links)\n",
        "image_urls = {\n",
        "    \"quaint\": \"https://raw.githubusercontent.com/PAMUS-JP30/flashcard/main/001.png\",\n",
        "    \"explore\": \"https://raw.githubusercontent.com/PAMUS-JP30/flashcard/main/002.png\",\n",
        "    \"cheerful\": \"https://raw.githubusercontent.com/PAMUS-JP30/flashcard/main/003.png\",\n",
        "    \"peddler\": \"https://raw.githubusercontent.com/PAMUS-JP30/flashcard/main/004.png\",\n",
        "    \"curious\": \"https://raw.githubusercontent.com/PAMUS-JP30/flashcard/main/005.png\",\n",
        "    \"enthusiasm\": \"https://raw.githubusercontent.com/PAMUS-JP30/flashcard/main/006.png\",\n",
        "    \"skeptical\": \"https://raw.githubusercontent.com/PAMUS-JP30/flashcard/main/007.png\",\n",
        "    \"whisper\": \"https://raw.githubusercontent.com/PAMUS-JP30/flashcard/main/008.png\"\n",
        "}\n",
        "\n",
        "def generate_output(word):\n",
        "    definition = word + \". \" + \"It means \" + word_definitions[word]\n",
        "\n",
        "    # Get the image\n",
        "    image_url = image_urls[word]\n",
        "    response = requests.get(image_url)\n",
        "    img = Image.open(BytesIO(response.content))\n",
        "    img = img.resize((400, 250))  # Resize to half size\n",
        "\n",
        "    # Generate the audio\n",
        "    tts = gTTS(text=definition, lang='en', slow=False)\n",
        "    audio_file = f\"{word}.mp3\"\n",
        "    tts.save(audio_file)\n",
        "\n",
        "    return img, audio_file\n",
        "\n",
        "# Create the Gradio interface\n",
        "iface = gr.Interface(\n",
        "    fn=generate_output,\n",
        "    inputs=gr.Dropdown(choices=list(word_definitions.keys()), label=\"Choose a word\"),\n",
        "    outputs=[gr.Image(type=\"pil\"), gr.Audio(type=\"filepath\", autoplay=True)],\n",
        "    title=\"Word Definition with Image and Audio\"\n",
        ")\n",
        "\n",
        "# Launch the interface\n",
        "iface.launch()\n"
      ],
      "metadata": {
        "id": "YrdBM7hERPUt"
      },
      "execution_count": null,
      "outputs": []
    },
    {
      "cell_type": "markdown",
      "source": [
        "## **2. Image Unscrambling**\n",
        "This application displays three WordCloud images meaning Intro, Body, and Conclusion and 6 random images of the story."
      ],
      "metadata": {
        "id": "Q9DIZL_AXBFE"
      }
    },
    {
      "cell_type": "code",
      "source": [
        "!pip install gradio\n"
      ],
      "metadata": {
        "id": "bnUEUzLXSGgk"
      },
      "execution_count": null,
      "outputs": []
    },
    {
      "cell_type": "code",
      "source": [
        "import gradio as gr\n",
        "import random\n",
        "\n",
        "# Image filenames\n",
        "wordcloud_images = [\"wordcloud_intro.png\", \"wordcloud_body.png\", \"wordcloud_conclusion.png\"]\n",
        "scrambled_images = [\"image1.png\", \"image2.png\", \"image3.png\", \"image4.png\", \"image5.png\", \"image6.png\"]\n",
        "correct_order = [\"image5.png\", \"image1.png\", \"image6.png\", \"image2.png\", \"image4.png\", \"image3.png\"]\n",
        "\n",
        "# Randomly shuffle the scrambled images\n",
        "random.shuffle(scrambled_images)\n",
        "\n",
        "# Function to check the order of images\n",
        "attempts = 3\n",
        "def check_sequence(*images):\n",
        "    global attempts\n",
        "    if list(images) == correct_order:\n",
        "        attempts = 3\n",
        "        return \"Wow! Good job! :)\"\n",
        "    else:\n",
        "        attempts -= 1\n",
        "        if attempts > 0:\n",
        "            return f\"Oops! Would you try again? You have {attempts} attempts left.\"\n",
        "        else:\n",
        "            attempts = 3\n",
        "            return \"Oops! No more attempts left. Please look at the WordCloud images carefully and try again.\"\n",
        "\n",
        "# Define function to handle button click\n",
        "def on_button_click():\n",
        "    selected_images = [image.value for image in image_inputs]\n",
        "    result = check_sequence(*selected_images)\n",
        "    feedback_textbox.value = result\n",
        "\n",
        "# Gradio interface components\n",
        "wordcloud_images_display = [gr.Image(img, label=img.split('.')[0]) for img in wordcloud_images]\n",
        "scrambled_images_dropdowns = [gr.Image(img, label=img.split('/')[-1]) for img in scrambled_images]\n",
        "image_inputs = [gr.Dropdown(choices=scrambled_images, label=f\"Image {i+1}\") for i in range(6)]\n",
        "feedback_textbox = gr.Textbox(label=\"Feedback\", interactive=False)\n",
        "\n",
        "# Gradio interface\n",
        "interface = gr.Interface(\n",
        "    fn=None,\n",
        "    live=True,\n",
        "    title=\"Pre-reading Activity: Image Sequencing\",\n",
        "    description=\"Look at the WordCloud images and select the scrambled images in the correct order.\",\n",
        "    inputs=[*wordcloud_images_display, *scrambled_images_dropdowns, *image_inputs],\n",
        "    outputs=feedback_textbox\n",
        ")\n",
        "\n",
        "# Add button to check order\n",
        "interface.inputs.append(gr.Button(label=\"Check Order\", onclick=on_button_click))\n",
        "\n",
        "# Launch the interface\n",
        "interface.launch()\n"
      ],
      "metadata": {
        "id": "JCbZIALOTffp"
      },
      "execution_count": null,
      "outputs": []
    },
    {
      "cell_type": "markdown",
      "source": [
        "# **[During Reading Activities]**"
      ],
      "metadata": {
        "id": "oKTSVrTLRase"
      }
    },
    {
      "cell_type": "markdown",
      "source": [
        "## **3. Reading_Comprehension_Test**\n",
        "\n",
        "The app presents comprehension questions that students can answer on their tablets, providing immediate feedback."
      ],
      "metadata": {
        "id": "Srbizi5sTiyb"
      }
    },
    {
      "cell_type": "code",
      "source": [
        "!pip install gradio"
      ],
      "metadata": {
        "id": "Tiwz6bc3TsMZ"
      },
      "execution_count": null,
      "outputs": []
    },
    {
      "cell_type": "code",
      "source": [
        "import gradio as gr\n",
        "\n",
        "# Define the comprehension questions\n",
        "questions_mc = [\n",
        "    {\"question\": \"1. What was the main problem with Tom's family garden at the beginning of the story?\", \"options\": [\"a) It was too shady\", \"b) The soil was tough and dry\", \"c) It was overgrown with weeds\", \"d) The garden was too small\"], \"answer\": \"b) The soil was tough and dry\"},\n",
        "    {\"question\": \"2. What caught Tom's attention in the peddler's cart?\", \"options\": [\"a) Pots and pans\", \"b) Cloths and toys\", \"c) Small packets of seeds tied with colorful ribbons\", \"d) Shiny jewelry\"], \"answer\": \"c) Small packets of seeds tied with colorful ribbons\"},\n",
        "    {\"question\": \"3. How did the peddler describe the seeds to Tom?\", \"options\": [\"a) Ordinary seeds\", \"b) Expensive seeds\", \"c) Magic seeds\", \"d) Rare seeds\"], \"answer\": \"c) Magic seeds\"},\n",
        "    {\"question\": \"4. What happened to Tom's garden after he planted the magic seeds?\", \"options\": [\"a) The plants didn't grow at all\", \"b) The plants grew slowly\", \"c) The plants grew quickly and vibrantly\", \"d) The plants wilted and died\"], \"answer\": \"c) The plants grew quickly and vibrantly\"},\n",
        "    {\"question\": \"5. How did the village community react to Tom's garden?\", \"options\": [\"a) They ignored it\", \"b) They marveled at it and shared the seeds\", \"c) They tried to buy the garden\", \"d) They complained about it\"], \"answer\": \"b) They marveled at it and shared the seeds\"}\n",
        "]\n",
        "\n",
        "questions_tf = [\n",
        "    {\"question\": \"1. Tom loved exploring the outdoors and helping his parents in their garden.\", \"options\": [\"True\", \"False\"], \"answer\": \"True\"},\n",
        "    {\"question\": \"2. The peddler sold Tom an old toy.\", \"options\": [\"True\", \"False\"], \"answer\": \"False\"},\n",
        "    {\"question\": \"3. The seeds took a very long time to grow.\", \"options\": [\"True\", \"False\"], \"answer\": \"False\"},\n",
        "    {\"question\": \"4. Tom kept all the magic seeds for himself.\", \"options\": [\"True\", \"False\"], \"answer\": \"False\"},\n",
        "    {\"question\": \"5. The story highlights the importance of sharing and community.\", \"options\": [\"True\", \"False\"], \"answer\": \"True\"}\n",
        "]\n",
        "\n",
        "questions_sa = [\n",
        "    {\"question\": \"1. Why were Tom's parents skeptical about the magic seeds?\", \"answer\": \"They seemed too good to be true and they had never seen anything like them before.\"},\n",
        "    {\"question\": \"2. Describe the changes in Tom's garden after planting the magic seeds.\", \"answer\": \"Tom's garden transformed with tall, lush vegetables and beautiful flowers that were brighter and sweeter than any other plants in the village.\"},\n",
        "    {\"question\": \"3. How did Tom and his family contribute to the community after their garden flourished?\", \"answer\": \"They shared the magic seeds with their neighbors and taught them how to care for the plants, bringing the community together.\"},\n",
        "    {\"question\": \"4. What inspired Tom to become a peddler when he grew up?\", \"answer\": \"He wanted to spread the joy and wonder he experienced with the magic seeds to other villages.\"},\n",
        "    {\"question\": \"5. What is the main message of the story 'The Peddler's Magic Seeds'?\", \"answer\": \"Small beginnings can lead to great changes, and the importance of sharing and community.\"}\n",
        "]\n",
        "\n",
        "vocabulary_questions = [\n",
        "    {\"question\": \"1. Quaint\", \"options\": [\"a) Cheerful and full of energy\", \"b) Attractively unusual or old-fashioned\", \"c) Dry and lacking moisture\", \"d) Very large or important\"], \"answer\": \"b) Attractively unusual or old-fashioned\"},\n",
        "    {\"question\": \"2. Skeptical\", \"options\": [\"a) Believing without question\", \"b) Doubtful or questioning\", \"c) Full of energy\", \"d) Very colorful\"], \"answer\": \"b) Doubtful or questioning\"},\n",
        "    {\"question\": \"3. Prosper\", \"options\": [\"a) To fail or decline\", \"b) To grow strong and healthy\", \"c) To stay the same\", \"d) To become less important\"], \"answer\": \"b) To grow strong and healthy\"},\n",
        "    {\"question\": \"4. Marvel\", \"options\": [\"a) To feel disappointed\", \"b) To be filled with wonder or astonishment\", \"c) To ignore completely\", \"d) To criticize harshly\"], \"answer\": \"b) To be filled with wonder or astonishment\"},\n",
        "    {\"question\": \"5. Generously\", \"options\": [\"a) In a stingy manner\", \"b) In a selfish manner\", \"c) In a kind and giving way\", \"d) In a hurried way\"], \"answer\": \"c) In a kind and giving way\"}\n",
        "]\n",
        "\n",
        "# Function to display the quiz and calculate the score\n",
        "def quiz(*answers):\n",
        "    score = 0\n",
        "    incorrect = []\n",
        "    idx = 0\n",
        "\n",
        "    # Check multiple choice questions\n",
        "    for question in questions_mc:\n",
        "        if answers[idx] == question[\"answer\"]:\n",
        "            score += 1\n",
        "        else:\n",
        "            incorrect.append(f\"MC Question {idx + 1}: Correct answer is {question['answer']}\")\n",
        "        idx += 1\n",
        "\n",
        "    # Check true/false questions\n",
        "    for question in questions_tf:\n",
        "        if answers[idx] == question[\"answer\"]:\n",
        "            score += 1\n",
        "        else:\n",
        "            incorrect.append(f\"TF Question {idx - len(questions_mc) + 1}: Correct answer is {question['answer']}\")\n",
        "        idx += 1\n",
        "\n",
        "    # Check short answer questions\n",
        "    for question in questions_sa:\n",
        "        if answers[idx].strip().lower() == question[\"answer\"].strip().lower():\n",
        "            score += 2\n",
        "        else:\n",
        "            incorrect.append(f\"SA Question {idx - len(questions_mc) - len(questions_tf) + 1}: Correct answer is {question['answer']}\")\n",
        "        idx += 1\n",
        "\n",
        "    # Check vocabulary questions\n",
        "    for question in vocabulary_questions:\n",
        "        if answers[idx] == question[\"answer\"]:\n",
        "            score += 1\n",
        "        else:\n",
        "            incorrect.append(f\"Vocab Question {idx - len(questions_mc) - len(questions_tf) - len(questions_sa) + 1}: Correct answer is {question['answer']}\")\n",
        "        idx += 1\n",
        "\n",
        "    results = \"\\n\".join(incorrect)\n",
        "    return score, results\n",
        "\n",
        "# Inputs and outputs for Gradio interface\n",
        "inputs = [gr.Textbox(label=\"Enter your name\")] + [gr.Radio(label=q[\"question\"], choices=q[\"options\"]) for q in questions_mc] + [gr.Radio(label=q[\"question\"], choices=q[\"options\"]) for q in questions_tf] + [gr.Textbox(label=q[\"question\"]) for q in questions_sa] + [gr.Radio(label=q[\"question\"], choices=q[\"options\"]) for q in vocabulary_questions]\n",
        "outputs = [gr.Textbox(label=\"Score\"), gr.Textbox(label=\"Incorrect Answers\")]\n",
        "\n",
        "iface = gr.Interface(fn=quiz, inputs=inputs, outputs=outputs, description=\"Comprehension Quiz for 'The Peddler's Magic Seeds'\")\n",
        "iface.launch(share=True)"
      ],
      "metadata": {
        "id": "287KHP2mTzPU"
      },
      "execution_count": null,
      "outputs": []
    },
    {
      "cell_type": "markdown",
      "source": [
        "# **[Post-reading activity]**"
      ],
      "metadata": {
        "id": "rZdYCuaUT4vA"
      }
    },
    {
      "cell_type": "markdown",
      "source": [
        "## **4. Speech Feedback**\n",
        "\n",
        "Students enhance English proficiency by responding to critical questions, recording responses, and self-assessing speaking abilities."
      ],
      "metadata": {
        "id": "P9FmZ3CXYqoi"
      }
    },
    {
      "cell_type": "code",
      "source": [
        "!pip install gradio==3.23.0\n",
        "!pip install speechrecognition==3.10.0\n",
        "!pip install numpy==1.22.4\n",
        "!pip install soundfile==0.12.1\n",
        "!pip install python-Levenshtein==0.21.1\n"
      ],
      "metadata": {
        "id": "aE3S9BSyUvmQ"
      },
      "execution_count": null,
      "outputs": []
    },
    {
      "cell_type": "code",
      "source": [
        "import gradio as gr\n",
        "import speech_recognition as sr\n",
        "from Levenshtein import ratio\n",
        "import tempfile\n",
        "import numpy as np\n",
        "import soundfile as sf\n",
        "\n",
        "def transcribe_audio(file_info):\n",
        "    r = sr.Recognizer()\n",
        "    with tempfile.NamedTemporaryFile(delete=True, suffix=\".wav\") as tmpfile:\n",
        "        sf.write(tmpfile.name, data=file_info[1], samplerate=44100, format='WAV')\n",
        "        tmpfile.seek(0)\n",
        "        with sr.AudioFile(tmpfile.name) as source:\n",
        "            audio_data = r.record(source)\n",
        "    try:\n",
        "        text = r.recognize_google(audio_data)\n",
        "        return text\n",
        "    except sr.UnknownValueError:\n",
        "        return \"Could not understand audio\"\n",
        "    except sr.RequestError as e:\n",
        "        return f\"Could not request results; {e}\"\n",
        "\n",
        "def pronunciation_correction(expected_text, file_info):\n",
        "    print(f\"Expected text: {expected_text}\")\n",
        "    user_spoken_text = transcribe_audio(file_info)\n",
        "    print(f\"User spoken text: {user_spoken_text}\")\n",
        "\n",
        "    similarity = ratio(expected_text.lower(), user_spoken_text.lower())\n",
        "    description = f\"{similarity:.2f}\"\n",
        "\n",
        "    if similarity >= 0.9:\n",
        "        feedback = \"Excellent pronunciation!\"\n",
        "    elif similarity >= 0.7:\n",
        "        feedback = \"Good pronunciation!\"\n",
        "    elif similarity >= 0.5:\n",
        "        feedback = \"Needs improvement.\"\n",
        "    else:\n",
        "        feedback = \"Poor pronunciation, try to focus more on clarity.\"\n",
        "\n",
        "    print(f\"Similarity: {similarity}, Feedback: {feedback}\")\n",
        "    return feedback, description\n",
        "\n",
        "def validate_sentence(sentence):\n",
        "    if not sentence.strip():\n",
        "        return \"Please enter a sentence.\"\n",
        "    return sentence\n",
        "\n",
        "with gr.Blocks() as app:\n",
        "    with gr.Row():\n",
        "        sentence_input = gr.Textbox(label=\"Enter Your Sentence Here\")\n",
        "    validated_sentence = gr.Textbox(label=\"Valid Sentence\", interactive=False)\n",
        "    audio_input = gr.Audio(label=\"Upload or Record Audio File\", type=\"numpy\")\n",
        "    check_pronunciation_button = gr.Button(\"Check Pronunciation\")\n",
        "    pronunciation_feedback = gr.Textbox(label=\"Pronunciation Feedback\")\n",
        "    pronunciation_score = gr.Number(label=\"Pronunciation Accuracy Score: 0 (No Match) ~ 1 (Perfect)\")\n",
        "\n",
        "    sentence_input.change(\n",
        "        validate_sentence,\n",
        "        inputs=sentence_input,\n",
        "        outputs=validated_sentence\n",
        "    )\n",
        "\n",
        "    check_pronunciation_button.click(\n",
        "        pronunciation_correction,\n",
        "        inputs=[validated_sentence, audio_input],\n",
        "        outputs=[pronunciation_feedback, pronunciation_score]\n",
        "    )\n",
        "\n",
        "app.launch(debug=True)\n"
      ],
      "metadata": {
        "id": "kgwaH8I_WKkG"
      },
      "execution_count": null,
      "outputs": []
    },
    {
      "cell_type": "markdown",
      "source": [],
      "metadata": {
        "id": "5bggf2UAR-Ft"
      }
    },
    {
      "cell_type": "markdown",
      "source": [],
      "metadata": {
        "id": "1sr4rAHCUnhs"
      }
    },
    {
      "cell_type": "code",
      "source": [
        "!pip install pydub\n",
        "!pip install ffmpeg-python\n"
      ],
      "metadata": {
        "id": "NvjFkifm0RrC"
      },
      "execution_count": null,
      "outputs": []
    },
    {
      "cell_type": "code",
      "source": [
        "from IPython.display import display, HTML, Javascript\n",
        "\n",
        "def record_audio():\n",
        "    display(HTML(\"\"\"\n",
        "    <script>\n",
        "        var my_recorder;\n",
        "        var audioChunks = [];\n",
        "\n",
        "        function startRecording() {\n",
        "            navigator.mediaDevices.getUserMedia({ audio: true }).then(stream => {\n",
        "                my_recorder = new MediaRecorder(stream);\n",
        "                my_recorder.ondataavailable = function(event) {\n",
        "                    audioChunks.push(event.data);\n",
        "                };\n",
        "                my_recorder.start();\n",
        "            });\n",
        "        }\n",
        "\n",
        "        function stopRecording() {\n",
        "            my_recorder.stop();\n",
        "            my_recorder.onstop = function() {\n",
        "                var audioBlob = new Blob(audioChunks, { type: 'audio/wav' });\n",
        "                var audioUrl = URL.createObjectURL(audioBlob);\n",
        "                var audio = new Audio(audioUrl);\n",
        "                var anchor = document.createElement(\"a\");\n",
        "                anchor.href = audioUrl;\n",
        "                anchor.download = \"recorded_audio.wav\";\n",
        "                anchor.click();\n",
        "                audio.play();\n",
        "            };\n",
        "        }\n",
        "    </script>\n",
        "    <button onclick=\"startRecording()\">Start Recording</button>\n",
        "    <button onclick=\"stopRecording()\">Stop Recording</button>\n",
        "    \"\"\"))\n",
        "\n",
        "record_audio()\n"
      ],
      "metadata": {
        "id": "WQsc9VcO6vh9"
      },
      "execution_count": null,
      "outputs": []
    }
  ]
}